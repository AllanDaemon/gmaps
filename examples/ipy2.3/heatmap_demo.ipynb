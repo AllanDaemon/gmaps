{
 "metadata": {
  "name": "",
  "signature": "sha256:dc1b7e9c361a2903ebcbb959c1ac4b89d394eee37b0088d7053516220a465602",
  "vc": {
   "suppress_outputs": true
  }
 },
 "nbformat": 3,
 "nbformat_minor": 0,
 "worksheets": [
  {
   "cells": [
    {
     "cell_type": "code",
     "collapsed": false,
     "input": [
      "import gmaps"
     ],
     "language": "python",
     "metadata": {},
     "outputs": []
    },
    {
     "cell_type": "markdown",
     "metadata": {},
     "source": [
      "#Heatmap demonstration\n",
      "\n",
      "Let's start with a very basic demonstration of the heatmap functionality in ``gmaps``. We have three positions, expressed as pairs of (latitude, longitude) objects. All three positions are located in Geary Boulevard in San Francisco. Let's plot these on a Google map."
     ]
    },
    {
     "cell_type": "code",
     "collapsed": false,
     "input": [
      "data = [ [ 37.782551,-122.445368 ],\n",
      "         [ 37.782745,-122.444586 ],\n",
      "         [ 37.782842,-122.443858 ] ]\n",
      "\n",
      "gmaps.heatmap(data)"
     ],
     "language": "python",
     "metadata": {},
     "outputs": []
    },
    {
     "cell_type": "markdown",
     "metadata": {},
     "source": [
      "Let's try something a little more complicated. We have a data file, ``taxi_data.csv``, with 500 coordinates of locations where people took a taxi in San Francisco. The file comes bundled with gmaps, so you don't need to download it. Just load it into a numpy array:"
     ]
    },
    {
     "cell_type": "code",
     "collapsed": false,
     "input": [
      "taxi_data = gmaps.datasets.load_dataset('taxi_rides')\n",
      "taxi_data[:5]"
     ],
     "language": "python",
     "metadata": {},
     "outputs": []
    },
    {
     "cell_type": "markdown",
     "metadata": {},
     "source": [
      "The data is from the [Google maps API reference](https://developers.google.com/maps/documentation/javascript/heatmaplayer).\n",
      "\n",
      "Let's plot this data as a heatmap:"
     ]
    },
    {
     "cell_type": "code",
     "collapsed": false,
     "input": [
      "gmaps.heatmap(taxi_data)"
     ],
     "language": "python",
     "metadata": {},
     "outputs": []
    },
    {
     "cell_type": "code",
     "collapsed": false,
     "input": [],
     "language": "python",
     "metadata": {},
     "outputs": []
    }
   ],
   "metadata": {}
  }
 ]
}